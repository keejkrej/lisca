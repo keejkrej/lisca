{
 "cells": [
  {
   "cell_type": "markdown",
   "id": "56453c1e-2176-4a69-8a9e-2ec697beb1fb",
   "metadata": {
    "tags": []
   },
   "source": [
    "# This is a notebook to perform LISCA analysis\n",
    "\n",
    "Each cell corresponds to a block of code, which can be run by selecting it and pressing shift+enter. The notebook is conceived to be run sequentially. For any errors or questions contact Miguel. Make sure to select the kernel named pyama on the top right. If you cannot find a kernel named pyama, have a look at the confluence page or contact Miguel."
   ]
  },
  {
   "cell_type": "markdown",
   "id": "5ab9d375-3374-418f-85c0-58cdec71e33f",
   "metadata": {},
   "source": [
    "Run the following Cell to make all the imports"
   ]
  },
  {
   "cell_type": "code",
   "execution_count": null,
   "id": "8821bbac-08f4-4998-937c-e656a1d278f4",
   "metadata": {
    "tags": []
   },
   "outputs": [],
   "source": [
    "import ipywidgets as widgets\n",
    "import matplotlib.pyplot as plt\n",
    "from nd2reader import ND2Reader\n",
    "import pandas as pd\n",
    "from IPython.display import display\n",
    "import numpy as np\n",
    "import sys\n",
    "import time\n",
    "\n",
    "sys.path.append('/project/ag-moonraedler/MAtienza/pyama/')\n",
    "from lisca.pipeline import Track\n",
    "\n",
    "from tqdm import tqdm\n",
    "import os\n",
    "from skimage.io import imread\n",
    "from notebook_viewer import viewers\n",
    "%matplotlib ipympl"
   ]
  },
  {
   "cell_type": "markdown",
   "id": "6388ede2-cb01-45d2-a20f-63ccae95661b",
   "metadata": {},
   "source": [
    "Select the folder where your imaging file is located, as well as the folder where you would like for the output of the analysis to be saved"
   ]
  },
  {
   "cell_type": "code",
   "execution_count": null,
   "id": "7b135906-675a-46c6-b932-883240a0774a",
   "metadata": {},
   "outputs": [],
   "source": [
    "data_path = '/project/ag-moonraedler/Nathalie/2022-10-11/'\n",
    "nd2_file = '2022-10-11-mGL-GA890-L908.nd2'\n",
    "path_out='.'"
   ]
  },
  {
   "cell_type": "markdown",
   "id": "30cbc9fe-bf42-4d9d-9a5f-ddab59a88f69",
   "metadata": {},
   "source": [
    "You can use this tool to have a look at your images and find out which channel (c) is BF and which which channels are fluorscence."
   ]
  },
  {
   "cell_type": "code",
   "execution_count": null,
   "id": "bee57678-de06-4f76-b469-4caea2736e83",
   "metadata": {},
   "outputs": [],
   "source": [
    "viewer = viewers.StackViewer(os.path.join(data_path, nd2_file))"
   ]
  },
  {
   "cell_type": "code",
   "execution_count": null,
   "id": "8aaa94d0-8191-4683-b74e-1ef04c35c374",
   "metadata": {},
   "outputs": [],
   "source": [
    "plt.close(viewer.fig)"
   ]
  },
  {
   "cell_type": "code",
   "execution_count": null,
   "id": "f96aba35-f78b-4bd5-aee1-428289e48663",
   "metadata": {},
   "outputs": [],
   "source": [
    "first=0\n",
    "last=24\n",
    "positions=range(23, 24+1)\n",
    "fl_channel=1\n",
    "bf_channel=0"
   ]
  },
  {
   "cell_type": "markdown",
   "id": "d7adec1a-6ce0-4ddb-8af1-899f6fcbaa50",
   "metadata": {},
   "source": [
    "Choose time points you would like to evaluate"
   ]
  },
  {
   "cell_type": "code",
   "execution_count": null,
   "id": "7a7e4b9d-c062-47d4-8299-59b8c2bb2679",
   "metadata": {},
   "outputs": [],
   "source": [
    "first_frame=0\n",
    "last_frame=-1\n",
    "frames = range(first_frame, last_frame)"
   ]
  },
  {
   "cell_type": "markdown",
   "id": "7f6068ae-4308-4027-a6b1-8fcb319d3193",
   "metadata": {},
   "source": [
    "If you plan to use cellpose segmentation, use this tool for calibration by checking which parameters work best. Otherwise you may skip this part\n"
   ]
  },
  {
   "cell_type": "code",
   "execution_count": null,
   "id": "8991c0dd-8bc5-44ee-82a5-ba18d9a37c90",
   "metadata": {},
   "outputs": [],
   "source": [
    "segmentation_viewer = viewers.CellposeViewer(data_path+nd2_file, channel=bf_channel)"
   ]
  },
  {
   "cell_type": "code",
   "execution_count": null,
   "id": "52f36ad7-672b-48a6-9821-3c4a68c8a08c",
   "metadata": {},
   "outputs": [],
   "source": [
    "try:\n",
    "    flow_threshold, diameter, mask_threshold = segmentation_viewer.flow_threshold.value, segmentation_viewer.diameter.value, segmentation_viewer.mask_threshold.value\n",
    "    plt.close(segmentation_viewer.fig)\n",
    "except:\n",
    "    flow_threshold, diameter, mask_threshold = 0.8, 29, -2\n",
    "    "
   ]
  },
  {
   "cell_type": "markdown",
   "id": "53fe282f-d617-44a5-ab9f-0f8b1e716758",
   "metadata": {},
   "source": [
    "## Perform LISCA pipeline"
   ]
  },
  {
   "cell_type": "markdown",
   "id": "d3f9422e-93bd-4e58-89af-ae3cf84af5a0",
   "metadata": {},
   "source": [
    "Chose a method for segmentation from either \"th\", the standard pyama method or \"cellpose\""
   ]
  },
  {
   "cell_type": "code",
   "execution_count": null,
   "id": "c7d4bb30-c73d-43c2-9d8e-2f224564690a",
   "metadata": {},
   "outputs": [],
   "source": [
    "method=\"th\""
   ]
  },
  {
   "cell_type": "markdown",
   "id": "20f303f2-d6ed-4218-89ef-bc50f9bacf82",
   "metadata": {},
   "source": [
    "Choose the positions you want to evalueate"
   ]
  },
  {
   "cell_type": "code",
   "execution_count": null,
   "id": "8845d321-0d75-4ad9-9c5a-0b2a2944d20b",
   "metadata": {},
   "outputs": [],
   "source": [
    "n_positions=0\n",
    "t_0 = time.time()\n",
    "for fov in positions:\n",
    "    print(f'Evaluating field of view {fov}')\n",
    "    \n",
    "    fovpath=os.path.join(path_out, f'XY{fov}/')\n",
    "    if not os.path.isdir(fovpath):\n",
    "        os.mkdir(fovpath)\n",
    "    tracker = Track(fovpath, data_path, bf_channel, fl_channels, fov=fov, nd2_file=nd2_file, frame_indices=frames)\n",
    "    tracker.segment(flow_threshold=flow_threshold, mask_threshold=mask_threshold, diameter=diameter, pretrained_model='mdamb231', method=method)\n",
    "    ##tracker.track(method=method)\n",
    "    tracker.save_to_pyama(fl_channel)\n",
    "    n_positions+=1\n",
    "print(f\"Time taken per position: {(time.time()-t_0)/(60*n_positions)} minutes\")"
   ]
  }
 ],
 "metadata": {
  "kernelspec": {
   "display_name": "pyama_local",
   "language": "python",
   "name": "pyama_local"
  },
  "language_info": {
   "codemirror_mode": {
    "name": "ipython",
    "version": 3
   },
   "file_extension": ".py",
   "mimetype": "text/x-python",
   "name": "python",
   "nbconvert_exporter": "python",
   "pygments_lexer": "ipython3",
   "version": "3.8.10"
  }
 },
 "nbformat": 4,
 "nbformat_minor": 5
}
