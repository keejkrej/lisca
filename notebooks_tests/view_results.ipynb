{
 "cells": [
  {
   "cell_type": "markdown",
   "id": "a600251e-1b6c-404f-b227-22920b154498",
   "metadata": {},
   "source": [
    "# This is a Notebook to analyse the results of your LISCA analysis interactively"
   ]
  },
  {
   "cell_type": "markdown",
   "id": "2f6d8f03-ed83-4789-867e-e60d07bc4b9d",
   "metadata": {},
   "source": [
    "Run all necessary imports"
   ]
  },
  {
   "cell_type": "code",
   "execution_count": 1,
   "id": "fdc517e5-2079-40c0-bfb6-63a7f4769089",
   "metadata": {},
   "outputs": [],
   "source": [
    "import ipywidgets as widgets\n",
    "import matplotlib.pyplot as plt\n",
    "from nd2reader import ND2Reader\n",
    "import pandas as pd\n",
    "from IPython.display import display\n",
    "import numpy as np\n",
    "import sys\n",
    "\n",
    "sys.path.append('/project/ag-moonraedler/MAtienza/pyama/')\n",
    "from lisca.pipeline import Track\n",
    "\n",
    "from tqdm import tqdm\n",
    "import os\n",
    "from skimage.io import imread\n",
    "from notebook_viewer import viewers\n",
    "%matplotlib ipympl\n",
    "%load_ext autoreload"
   ]
  },
  {
   "cell_type": "code",
   "execution_count": 2,
   "id": "c88bee30-92e7-4b38-ae64-1198b3b981fc",
   "metadata": {},
   "outputs": [],
   "source": [
    "data_path = '/project/ag-moonraedler/Nathalie/2022-04-25/'\n",
    "nd2_file = 'hek293t-25um-30um-pattern-trafo.nd2'\n",
    "path_out='./'\n",
    "method='th'"
   ]
  },
  {
   "cell_type": "markdown",
   "id": "54be1972-8a2e-4eff-91ee-48f99829c8e5",
   "metadata": {},
   "source": [
    "Have a quick look at your results"
   ]
  },
  {
   "cell_type": "code",
   "execution_count": null,
   "id": "6bd5a4e5-8790-4a22-b745-883d53d1a302",
   "metadata": {},
   "outputs": [
    {
     "data": {
      "text/plain": [
       "1.0"
      ]
     },
     "execution_count": 84,
     "metadata": {},
     "output_type": "execute_result"
    }
   ],
   "source": [
    "df = pd.read_csv(path_out+'XY0/tracking_data.csv')\n",
    "df"
   ]
  },
  {
   "cell_type": "markdown",
   "id": "7d23b321-f27f-46ee-b21f-f185042a5451",
   "metadata": {},
   "source": [
    "This is a tool to analyse your LISCA data. You can right click anywhere below the slider menu and then select \"Create New View for Output\" to get a bigger window."
   ]
  },
  {
   "cell_type": "code",
   "execution_count": null,
   "id": "8ac28084-73c6-45c1-9b84-cb07f4ef8b28",
   "metadata": {},
   "outputs": [],
   "source": [
    "%autoreload\n",
    "Resultsviewer=viewers.ResultsViewer(data_path+nd2_file, path_out, method=method)"
   ]
  },
  {
   "cell_type": "markdown",
   "id": "f9d3c670-53cf-42c0-99e9-6a0d5bb0d1eb",
   "metadata": {},
   "source": [
    "In the future you will be able to select which cells you would like to keep for your analysis and which ones you don't."
   ]
  }
 ],
 "metadata": {
  "kernelspec": {
   "display_name": "pyama_local",
   "language": "python",
   "name": "pyama_local"
  },
  "language_info": {
   "codemirror_mode": {
    "name": "ipython",
    "version": 3
   },
   "file_extension": ".py",
   "mimetype": "text/x-python",
   "name": "python",
   "nbconvert_exporter": "python",
   "pygments_lexer": "ipython3",
   "version": "3.8.10"
  }
 },
 "nbformat": 4,
 "nbformat_minor": 5
}
